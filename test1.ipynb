{
 "cells": [
  {
   "cell_type": "code",
   "execution_count": 72,
   "id": "bb23caae-99c9-4ee7-b748-3b6d087f54f5",
   "metadata": {},
   "outputs": [],
   "source": [
    "import pandas as pd"
   ]
  },
  {
   "cell_type": "code",
   "execution_count": 74,
   "id": "8d2ab24b-896c-4522-b4f9-48c0dc9c3f9b",
   "metadata": {},
   "outputs": [],
   "source": [
    "file_path = r\"C:\\Users\\SAI CHARAN REDDY\\Desktop\\ANALYST\\sample data.csv\"\n",
    "df = pd.read_csv(file_path, encoding='latin1')"
   ]
  },
  {
   "cell_type": "code",
   "execution_count": 76,
   "id": "2945408b-7f9a-4176-8852-f9e31c702562",
   "metadata": {},
   "outputs": [],
   "source": [
    "df['STATE'] = df['STATE'].fillna('Unknown')\n",
    "df['TERRITORY'] = df['TERRITORY'].fillna('Unknown')\n",
    "df['POSTALCODE'] = df['POSTALCODE'].fillna('00000')"
   ]
  },
  {
   "cell_type": "code",
   "execution_count": 78,
   "id": "935ab098-9a90-4bb9-8c1f-d2b8c2fe9ece",
   "metadata": {},
   "outputs": [],
   "source": [
    "df = df.drop_duplicates()\n"
   ]
  },
  {
   "cell_type": "code",
   "execution_count": 80,
   "id": "420ed180-3128-4e73-96d4-631853928ae3",
   "metadata": {},
   "outputs": [],
   "source": [
    "df['COUNTRY'] = df['COUNTRY'].str.title().str.strip()\n",
    "df['STATUS'] = df['STATUS'].str.title().str.strip()\n",
    "df['DEALSIZE'] = df['DEALSIZE'].str.title().str.strip()"
   ]
  },
  {
   "cell_type": "code",
   "execution_count": null,
   "id": "33c641d9-c96f-497a-9b82-9e4ea54813d2",
   "metadata": {},
   "outputs": [],
   "source": [
    "df['ORDERDATE'] = pd.to_datetime(df['ORDERDATE'], errors='coerce')"
   ]
  },
  {
   "cell_type": "code",
   "execution_count": 83,
   "id": "8cb927be-8a94-486f-a006-480270f714e2",
   "metadata": {},
   "outputs": [],
   "source": [
    "df.columns = df.columns.str.lower().str.replace(' ', '_')"
   ]
  },
  {
   "cell_type": "code",
   "execution_count": 85,
   "id": "0f745db7-8347-470b-a347-a623da8c2d68",
   "metadata": {},
   "outputs": [],
   "source": [
    "df['postalcode'] = df['postalcode'].astype(str)"
   ]
  },
  {
   "cell_type": "code",
   "execution_count": 87,
   "id": "7fb412a8-2fcf-4219-abd3-31b8242fe2ca",
   "metadata": {},
   "outputs": [
    {
     "name": "stdout",
     "output_type": "stream",
     "text": [
      " Data cleaning complete! File saved as 'sample_data_cleaned.csv'.\n"
     ]
    }
   ],
   "source": [
    "df.to_csv(r\"C:\\Users\\SAI CHARAN REDDY\\Desktop\\ANALYST\\sample_data_cleaned.csv\", index=False)\n",
    "print(\" Data cleaning complete! File saved as 'sample_data_cleaned.csv'.\")"
   ]
  },
  {
   "cell_type": "code",
   "execution_count": null,
   "id": "ab69d314-3712-46cd-91ac-20e9402be51e",
   "metadata": {},
   "outputs": [],
   "source": []
  }
 ],
 "metadata": {
  "kernelspec": {
   "display_name": "Python 3 (ipykernel)",
   "language": "python",
   "name": "python3"
  },
  "language_info": {
   "codemirror_mode": {
    "name": "ipython",
    "version": 3
   },
   "file_extension": ".py",
   "mimetype": "text/x-python",
   "name": "python",
   "nbconvert_exporter": "python",
   "pygments_lexer": "ipython3",
   "version": "3.12.4"
  }
 },
 "nbformat": 4,
 "nbformat_minor": 5
}
